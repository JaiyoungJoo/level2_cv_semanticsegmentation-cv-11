{
 "cells": [
  {
   "cell_type": "markdown",
   "id": "6df92395-3757-4cd9-a9dc-54f0e26c4c61",
   "metadata": {},
   "source": [
    "# Normalize"
   ]
  },
  {
   "cell_type": "code",
   "execution_count": 4,
   "id": "b767e62e-a819-474d-9b70-0ff153956094",
   "metadata": {},
   "outputs": [],
   "source": [
    "import os\n",
    "import sys\n",
    "from glob import glob\n",
    "import numpy as np\n",
    "import pandas as pd\n",
    "import cv2\n",
    "from PIL import Image\n",
    "from tqdm.notebook import tqdm\n",
    "from time import time\n",
    "\n",
    "import matplotlib.pyplot as plt\n",
    "import multiprocessing as mp\n",
    "import os"
   ]
  },
  {
   "cell_type": "code",
   "execution_count": 17,
   "id": "13909643-518b-481f-a667-66e6523ad72a",
   "metadata": {},
   "outputs": [],
   "source": [
    "def get_img_stats(img_dir):\n",
    "\n",
    "    img_info = dict(means=[], stds=[])\n",
    "    for folder_path in os.listdir(img_dir):\n",
    "        for filename in os.listdir(os.path.join(img_dir,folder_path)):\n",
    "            path = os.path.join(img_dir,folder_path,filename)\n",
    "            img = np.array(Image.open(path))\n",
    "            img_info['means'].append(img.mean(axis=(0,1)))\n",
    "            img_info['stds'].append(img.std(axis=(0,1)))\n",
    "    return img_info"
   ]
  },
  {
   "cell_type": "code",
   "execution_count": 15,
   "id": "6afd3c0a-1094-404a-8977-618aba0dee31",
   "metadata": {},
   "outputs": [
    {
     "name": "stdout",
     "output_type": "stream",
     "text": [
      "RGB Mean: 0.1209993856923253\n",
      "RGB Standard Deviation: 0.16414632723783018\n"
     ]
    }
   ],
   "source": [
    "img_info = get_img_stats('/opt/ml/input/data/train/DCM')\n",
    "\n",
    "\n",
    "print(f'RGB Mean: {np.mean(img_info[\"means\"], axis=0) / 255.}')\n",
    "print(f'RGB Standard Deviation: {np.mean(img_info[\"stds\"], axis=0) / 255.}')"
   ]
  },
  {
   "cell_type": "code",
   "execution_count": 18,
   "id": "374a1a16-b46d-44c2-9b76-5f1476f1e670",
   "metadata": {},
   "outputs": [
    {
     "name": "stdout",
     "output_type": "stream",
     "text": [
      "RGB Mean: 0.1318992783290888\n",
      "RGB Standard Deviation: 0.17621159468379083\n"
     ]
    }
   ],
   "source": [
    "img_info = get_img_stats('/opt/ml/input/data/test/DCM')\n",
    "\n",
    "print(f'RGB Mean: {np.mean(img_info[\"means\"], axis=0) / 255.}')\n",
    "print(f'RGB Standard Deviation: {np.mean(img_info[\"stds\"], axis=0) / 255.}')"
   ]
  },
  {
   "cell_type": "code",
   "execution_count": 21,
   "id": "30944e3c-3b3c-49b8-8016-7664a1db00ca",
   "metadata": {},
   "outputs": [
    {
     "data": {
      "text/plain": [
       "([30.85484335154295], [41.857313445646696])"
      ]
     },
     "execution_count": 21,
     "metadata": {},
     "output_type": "execute_result"
    }
   ],
   "source": [
    "mean = [0.1209993856923253]\n",
    "std = [0.16414632723783018]\n",
    "\n",
    "mean1 = [i*255 for i in mean]\n",
    "std1 = [i*255 for i in std]\n",
    "\n",
    "mean1, std1"
   ]
  },
  {
   "cell_type": "code",
   "execution_count": 22,
   "id": "757b40ac-adb9-4370-b578-8fe6e51ba546",
   "metadata": {},
   "outputs": [
    {
     "data": {
      "text/plain": [
       "([33.634315973917644], [44.93395664436666])"
      ]
     },
     "execution_count": 22,
     "metadata": {},
     "output_type": "execute_result"
    }
   ],
   "source": [
    "mean = [0.1318992783290888]\n",
    "std = [0.17621159468379083]\n",
    "\n",
    "mean2 = [i*255 for i in mean]\n",
    "std2 = [i*255 for i in std]\n",
    "\n",
    "mean2, std2"
   ]
  },
  {
   "cell_type": "code",
   "execution_count": 26,
   "id": "0690800a-6681-4406-8ff5-342607b1662d",
   "metadata": {},
   "outputs": [
    {
     "data": {
      "text/plain": [
       "(0.12644933201070704, 0.1701789609608105)"
      ]
     },
     "execution_count": 26,
     "metadata": {},
     "output_type": "execute_result"
    }
   ],
   "source": [
    "mean=(0.1209993856923253+0.1318992783290888)/2\n",
    "std=(0.16414632723783018+0.17621159468379083)/2\n",
    "mean,std"
   ]
  },
  {
   "cell_type": "code",
   "execution_count": 28,
   "id": "5b591b76-12b9-4ca2-8c0b-eb532db108d1",
   "metadata": {},
   "outputs": [],
   "source": [
    "import csv\n",
    "import json\n",
    "csvfile=open('/opt/ml/input/result/FPN_densenet169_150.csv','r')\n",
    "jsonfile=open('/opt/ml/input/result/FPN_densenet169_150.json','w')\n",
    "filednames=(\"image_name\",\"class\",\"rle\")\n",
    "reader=csv.DictReader(csvfile,filednames)\n",
    "for row in reader:\n",
    "    json.dump(row,jsonfile)\n",
    "    jsonfile.write('\\n')"
   ]
  }
 ],
 "metadata": {
  "kernelspec": {
   "display_name": "Python 3 (ipykernel)",
   "language": "python",
   "name": "python3"
  },
  "language_info": {
   "codemirror_mode": {
    "name": "ipython",
    "version": 3
   },
   "file_extension": ".py",
   "mimetype": "text/x-python",
   "name": "python",
   "nbconvert_exporter": "python",
   "pygments_lexer": "ipython3",
   "version": "3.8.5"
  }
 },
 "nbformat": 4,
 "nbformat_minor": 5
}
